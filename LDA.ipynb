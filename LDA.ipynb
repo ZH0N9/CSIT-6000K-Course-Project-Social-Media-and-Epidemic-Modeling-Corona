{
 "cells": [
  {
   "cell_type": "markdown",
   "id": "28ae73f7",
   "metadata": {},
   "source": [
    "# 1. Preprocessing Data"
   ]
  },
  {
   "cell_type": "code",
   "execution_count": 1,
   "id": "b26bfbcc",
   "metadata": {},
   "outputs": [],
   "source": [
    "import pandas as pd\n",
    "import re\n",
    "import string\n",
    "import os\n",
    "\n",
    "from wordcloud import WordCloud\n",
    "from pprint import pprint\n",
    "\n",
    "import nltk\n",
    "from nltk.tokenize import TweetTokenizer\n",
    "from nltk.corpus import stopwords\n",
    "from nltk import flatten\n",
    "\n",
    "import gensim\n",
    "import gensim.corpora as corpora\n",
    "from gensim.utils import simple_preprocess\n",
    "\n",
    "import pyLDAvis.gensim_models"
   ]
  },
  {
   "cell_type": "code",
   "execution_count": 2,
   "id": "e877a286",
   "metadata": {},
   "outputs": [],
   "source": [
    "# Prefix Removal\n",
    "def prefix_removal(content):\n",
    "    colon = content.find(\":\")\n",
    "    return content[colon+1:]"
   ]
  },
  {
   "cell_type": "code",
   "execution_count": 3,
   "id": "010d708f",
   "metadata": {},
   "outputs": [],
   "source": [
    "# Map to lowercase\n",
    "def lowercase(content):\n",
    "    return content.lower()"
   ]
  },
  {
   "cell_type": "code",
   "execution_count": 4,
   "id": "121f632b",
   "metadata": {},
   "outputs": [],
   "source": [
    "# Digit Removal\n",
    "def digit_removal(content):\n",
    "    return re.sub(r'\\d+', '', content)"
   ]
  },
  {
   "cell_type": "code",
   "execution_count": 5,
   "id": "ac783548",
   "metadata": {},
   "outputs": [],
   "source": [
    "# Emoji Removal\n",
    "def emoji_removal(content):\n",
    "    emoji_pattern = re.compile(\"[\"\n",
    "                               u\"\\U0001F600-\\U0001F64F\"  # emoticons\n",
    "                               u\"\\U0001F300-\\U0001F5FF\"  # symbols & pictographs\n",
    "                               u\"\\U0001F680-\\U0001F6FF\"  # transport & map symbols\n",
    "                               u\"\\U0001F1E0-\\U0001F1FF\"  # flags (iOS)\n",
    "                               u\"\\U00002702-\\U000027B0\"\n",
    "                               u\"\\U000024C2-\\U0001F251\"\n",
    "                               \"]+\", flags=re.UNICODE)\n",
    "    return emoji_pattern.sub(r'', content) # no emoji"
   ]
  },
  {
   "cell_type": "code",
   "execution_count": 6,
   "id": "2cd7a12c",
   "metadata": {},
   "outputs": [],
   "source": [
    "# URL Removal\n",
    "def url_removal(content):\n",
    "    return re.sub(r'http\\S+', '', content)"
   ]
  },
  {
   "cell_type": "code",
   "execution_count": 7,
   "id": "21f8f1ec",
   "metadata": {},
   "outputs": [],
   "source": [
    "# Punctuation Removal by tokenizer\n",
    "def punc_removal(content):\n",
    "    punctuations = list(string.punctuation)\n",
    "    punctuations.append('…')\n",
    "    \n",
    "    tk = TweetTokenizer(r'\\w+')\n",
    "    content_tokens = [i.strip(\"\".join(punctuations)) for i in tk.tokenize(content) if i not in punctuations]\n",
    "    return content_tokens"
   ]
  },
  {
   "cell_type": "code",
   "execution_count": 8,
   "id": "f6af01e1",
   "metadata": {},
   "outputs": [],
   "source": [
    "# Stop words removal\n",
    "def stop_words_removal(content_tokens):\n",
    "    stop_words = set(stopwords.words('english'))\n",
    "#     stop_words.add('covid')\n",
    "#     stop_words.add('coronaviru')\n",
    "#     stop_words.add('coronavirus')\n",
    "    return [w for w in content_tokens if not w in stop_words]"
   ]
  },
  {
   "cell_type": "code",
   "execution_count": 9,
   "id": "760f639e",
   "metadata": {},
   "outputs": [],
   "source": [
    "# Only keep english character\n",
    "def non_english_removal(content_tokens):\n",
    "    return [w for w in content_tokens if not re.findall(\"[^\\u0000-\\u05C0\\u2100-\\u214F]+\", w) and len(w) > 2]"
   ]
  },
  {
   "cell_type": "code",
   "execution_count": 10,
   "id": "166c9802",
   "metadata": {},
   "outputs": [
    {
     "name": "stdout",
     "output_type": "stream",
     "text": [
      "\n",
      "\n",
      ">>>Example<<<\n",
      "\n",
      ">>>Original Content: RT @DrLiMengYAN1: WHY ف_ج 你 and HOW the 2,999 ❤️😳 🈶️Lab-origin http://www.google.com of COVID-19 virus self-monitoring in a…  \n",
      "\n",
      ">>>Lowercase: rt @drlimengyan1: why ف_ج 你 and how the 2,999 ❤️😳 🈶️lab-origin http://www.google.com of covid-19 virus self-monitoring in a…  \n",
      "\n",
      ">>>Prefix Removal:   why ف_ج 你 and how the 2,999 ❤️😳 🈶️lab-origin http://www.google.com of covid-19 virus self-monitoring in a…  \n",
      "\n",
      ">>>Digit Removal:   why ف_ج 你 and how the , ❤️😳 🈶️lab-origin http://www.google.com of covid- virus self-monitoring in a…  \n",
      "\n",
      ">>>Emoji Removal:   why ف_ج  and how the ,  lab-origin http://www.google.com of covid- virus self-monitoring in a…  \n",
      "\n",
      ">>>Url Removal:   why ف_ج  and how the ,  lab-origin  of covid- virus self-monitoring in a…  \n",
      "\n",
      ">>>Punctuation Removal:  ['why', 'ف_ج', 'and', 'how', 'the', 'lab-origin', 'of', 'covid', 'virus', 'self-monitoring', 'in', 'a'] \n",
      "\n",
      ">>>Stop Word Removal:  ['ف_ج', 'lab-origin', 'covid', 'virus', 'self-monitoring'] \n",
      "\n",
      ">>>Non English Character Removal:  ['lab-origin', 'covid', 'virus', 'self-monitoring'] \n",
      "\n"
     ]
    }
   ],
   "source": [
    "# Example of how to use the functions\n",
    "print('\\n')\n",
    "print(\">>>Example<<<\\n\")\n",
    "\n",
    "content = \"RT @DrLiMengYAN1: WHY ف_ج 你 and HOW the 2,999 ❤️😳 🈶️Lab-origin http://www.google.com of COVID-19 virus self-monitoring in a… \"\n",
    "\n",
    "print(\">>>Original Content:\", content, '\\n')\n",
    "\n",
    "content = lowercase(content)\n",
    "print(\">>>Lowercase:\", content, '\\n')\n",
    "\n",
    "content = prefix_removal(content)\n",
    "print(\">>>Prefix Removal: \", content, '\\n')\n",
    "\n",
    "content = digit_removal(content)\n",
    "print(\">>>Digit Removal: \", content, '\\n')\n",
    "\n",
    "content = emoji_removal(content)\n",
    "print(\">>>Emoji Removal: \", content, '\\n')\n",
    "\n",
    "content = url_removal(content)\n",
    "print(\">>>Url Removal: \", content, '\\n')\n",
    "\n",
    "content_token = punc_removal(content)\n",
    "print(\">>>Punctuation Removal: \", content_token, '\\n')\n",
    "\n",
    "content_token = stop_words_removal(content_token)\n",
    "print(\">>>Stop Word Removal: \", content_token, '\\n')\n",
    "\n",
    "content_token = non_english_removal(content_token)\n",
    "print(\">>>Non English Character Removal: \", content_token, '\\n')"
   ]
  },
  {
   "cell_type": "markdown",
   "id": "c1b27abc",
   "metadata": {},
   "source": [
    "# 2. LDA"
   ]
  },
  {
   "cell_type": "code",
   "execution_count": 11,
   "id": "a6a5a0e7",
   "metadata": {},
   "outputs": [],
   "source": [
    "def find_file_name(file, country):\n",
    "    for fname in os.listdir('Data/' + file + '/'):    # change directory as needed\n",
    "        if country in fname:\n",
    "            return 'Data/' + file + '/' + fname"
   ]
  },
  {
   "cell_type": "code",
   "execution_count": 12,
   "id": "02599c8b",
   "metadata": {},
   "outputs": [],
   "source": [
    "def preprocess_tweet(content):\n",
    "    content = lowercase(content)\n",
    "\n",
    "    if content[:4] == 'RT @':\n",
    "        content = prefix_removal(content)\n",
    "\n",
    "    content = digit_removal(content)\n",
    "    content = emoji_removal(content)\n",
    "    content = url_removal(content)\n",
    "    content_token = punc_removal(content)\n",
    "    content_token = stop_words_removal(content_token)\n",
    "    content_token = non_english_removal(content_token)\n",
    "    return content_token"
   ]
  },
  {
   "cell_type": "code",
   "execution_count": 13,
   "id": "18cc9d87",
   "metadata": {},
   "outputs": [],
   "source": [
    "def read_file(directory):\n",
    "    file = pd.read_csv(directory, index_col=False, on_bad_lines='skip', engine='python')\n",
    "    \n",
    "    print('diretory is', directory)\n",
    "    twitters = []\n",
    "    for i, t in enumerate(file['tweet']):\n",
    "        content_token = preprocess_tweet(t)\n",
    "        if len(content_token) >= 1:\n",
    "            twitters.append(content_token)\n",
    "\n",
    "        # Print examples\n",
    "        if i < 2:\n",
    "            print('line[{}] = {}'.format(i, t), '\\n')\n",
    "            \n",
    "    if len(twitters) == 0:\n",
    "        print(\"**********************************\")\n",
    "    return twitters\n"
   ]
  },
  {
   "cell_type": "code",
   "execution_count": 34,
   "id": "29eb5c1a",
   "metadata": {},
   "outputs": [],
   "source": [
    "def find_tweets(country):\n",
    "    root_dir = 'data/'\n",
    "    early = find_file_name('Early_Processed', country)\n",
    "    mid   = find_file_name('Mid_Processed', country)\n",
    "    late  = find_file_name('Late_Processed', country)\n",
    "    \n",
    "    early_tweets = read_file(early)\n",
    "    mid_tweets   = read_file(mid)\n",
    "    late_tweets  = read_file(late)\n",
    "    all_tweets = early_tweets + mid_tweets + late_tweets\n",
    "    return [early_tweets, mid_tweets, late_tweets, all_tweets]"
   ]
  },
  {
   "cell_type": "code",
   "execution_count": 35,
   "id": "9ee0b5c8",
   "metadata": {},
   "outputs": [],
   "source": [
    "def LDAmodel(tweets, index=0, country='None'):\n",
    "    names = ['Early', 'Mid', 'Late', 'All']\n",
    "    print(len(tweets))\n",
    "    id2word = corpora.Dictionary(tweets)\n",
    "\n",
    "    # Create Corpus\n",
    "    texts = tweets\n",
    "\n",
    "    # Term Document Frequency\n",
    "    corpus = [id2word.doc2bow(text) for text in texts]\n",
    "    print(i,len(corpus))\n",
    "\n",
    "\n",
    "    # Build LDA model\n",
    "    lda_model = gensim.models.LdaMulticore(corpus=corpus,\n",
    "                                           id2word=id2word,\n",
    "                                           num_topics=10)\n",
    "    \n",
    "    pyLDAvis.enable_notebook()\n",
    "    vis_data = pyLDAvis.gensim_models.prepare(lda_model, corpus, id2word)\n",
    "    pyLDAvis.save_html(vis_data, 'RQ3 Visualization/' + names[index] + '/' + country + '.html')"
   ]
  },
  {
   "cell_type": "code",
   "execution_count": 37,
   "id": "d0f237ca",
   "metadata": {},
   "outputs": [
    {
     "name": "stdout",
     "output_type": "stream",
     "text": [
      "diretory is Data/Early_Processed/8_United States Minor Outlying Islands.csv\n",
      "line[0] = Spotting A Flying Praying Mantis Is Rare &amp; Hard Not To Notice ONCE SEEN! 4 The Past Ten Yrs My Training In Mixed Martial Arts Changed To Gi My Style &amp; Movements Within This Disipline To Take The Proper Stands &amp; Embraces For Your Love Ones Putting On A Gi For Our Life! #COVID19 https://t.co/9Q14PP9z3Y \n",
      "\n",
      "line[1] = Spotting A Flying Praying Mantis Is Rare &amp; Hard Not To Notice ONCE SEEN! 4 The Past Ten Yrs My Training In Mixed Martial Arts Changed To Gi My Style &amp; Movements Within This Disipline To Take The Proper Stands &amp; Embraces For Your Love Ones Putting On A Gi For Our Life! #COVID19 https://t.co/EX8fAACDGU \n",
      "\n",
      "diretory is Data/Mid_Processed/239919_United States_en.csv\n",
      "line[0] = Sabotaging Trump was part of his plan all along.  #FireFauci \n",
      "\n",
      "line[1] = Apocalyptic forecast of 4,000 coronavirus deaths a day could be FIVE TIMES too high and had already been proved wrong when government revealed it at weekend  \n",
      "\n",
      "diretory is Data/Late_Processed/29860_United States.csv\n",
      "line[0] = If you gave someone covid this year it counts as a gift!#COVID19 #Christmas #Christmas Eve  \n",
      "\n",
      "line[1] = .  - Let us know how \"free\" you are from \"fear and control\" when you lay dying from #COVID19 in the ICU because you didn't get vaccinated and wear a mask. #MaskUp #GetVaccinatedNow #VoteBlueToSaveAmerica  \n",
      "\n",
      "8\n",
      "0 8\n"
     ]
    },
    {
     "name": "stderr",
     "output_type": "stream",
     "text": [
      "/Users/caozhang/opt/anaconda3/lib/python3.8/site-packages/pyLDAvis/_prepare.py:246: FutureWarning: In a future version of pandas all arguments of DataFrame.drop except for the argument 'labels' will be keyword-only.\n",
      "  default_term_info = default_term_info.sort_values(\n"
     ]
    },
    {
     "name": "stdout",
     "output_type": "stream",
     "text": [
      "215567\n",
      "1 215567\n"
     ]
    },
    {
     "name": "stderr",
     "output_type": "stream",
     "text": [
      "/Users/caozhang/opt/anaconda3/lib/python3.8/site-packages/pyLDAvis/_prepare.py:246: FutureWarning: In a future version of pandas all arguments of DataFrame.drop except for the argument 'labels' will be keyword-only.\n",
      "  default_term_info = default_term_info.sort_values(\n"
     ]
    },
    {
     "name": "stdout",
     "output_type": "stream",
     "text": [
      "29859\n",
      "2 29859\n"
     ]
    },
    {
     "name": "stderr",
     "output_type": "stream",
     "text": [
      "/Users/caozhang/opt/anaconda3/lib/python3.8/site-packages/pyLDAvis/_prepare.py:246: FutureWarning: In a future version of pandas all arguments of DataFrame.drop except for the argument 'labels' will be keyword-only.\n",
      "  default_term_info = default_term_info.sort_values(\n"
     ]
    },
    {
     "name": "stdout",
     "output_type": "stream",
     "text": [
      "245434\n",
      "3 245434\n"
     ]
    },
    {
     "name": "stderr",
     "output_type": "stream",
     "text": [
      "/Users/caozhang/opt/anaconda3/lib/python3.8/site-packages/pyLDAvis/_prepare.py:246: FutureWarning: In a future version of pandas all arguments of DataFrame.drop except for the argument 'labels' will be keyword-only.\n",
      "  default_term_info = default_term_info.sort_values(\n"
     ]
    },
    {
     "name": "stdout",
     "output_type": "stream",
     "text": [
      "diretory is Data/Early_Processed/41378_United Kingdom.csv\n",
      "line[0] = Spare a thought for the nut jobs with end of the world bunkers in their gardens. They've never been so joyous #lockdown #COVID19 \n",
      "\n",
      "line[1] = @CNN @OneMoreGoodMan #Brexit supporting, Tax avoiding, @Conservatives supporting, @Dyson whose manufacturing base is in the Far East, gets the contract over British based companies such as MEC Medical. 🙄\n",
      "#COVID19\n",
      " https://t.co/RXAE4fyBSI \n",
      "\n",
      "diretory is Data/Mid_Processed/97969_United Kingdom_en.csv\n",
      "line[0] =  The 'new normal', in which Boris Johnson dictates how many humans you can interact with, is dystopian. Am I the only one who is genuinely far more worried about government overreach than COVID-19 (which has a 99.5%+ recovery rate)? \n",
      "\n",
      "line[1] =   The 'new normal', in which Boris J dictates how many people you can peacefully interact with, is dystopian. Am I the only one who is genuinely more worried about government overreach than COVID-19 (which has a 99.5%+ recovery rate)? The UK is no longer a free country. \n",
      "\n",
      "diretory is Data/Late_Processed/6153_United Kingdom.csv\n",
      "line[0] = \"The 50’s Diner believes in human rights and freedoms and if we can’t serve everyone then we would rather serve no one.\" The popular 50's Diner in Minden has closed for failure to follow COVID-19 protocols. #COVID19 #Minden #HKPR #ReopeningOntarioAct\n",
      " \n",
      "\n",
      "line[1] =  Unfortunately, got to agree; misinformation was their main strategy and for most of us the only significant option available against #COVID19. Despite double jabs, was infected albeit with mild symptoms but now suffering with what seems like nasty #LongCovid... \n",
      "\n",
      "41378\n",
      "0 41378\n"
     ]
    },
    {
     "name": "stderr",
     "output_type": "stream",
     "text": [
      "/Users/caozhang/opt/anaconda3/lib/python3.8/site-packages/pyLDAvis/_prepare.py:246: FutureWarning: In a future version of pandas all arguments of DataFrame.drop except for the argument 'labels' will be keyword-only.\n",
      "  default_term_info = default_term_info.sort_values(\n"
     ]
    },
    {
     "name": "stdout",
     "output_type": "stream",
     "text": [
      "95741\n",
      "1 95741\n"
     ]
    },
    {
     "name": "stderr",
     "output_type": "stream",
     "text": [
      "/Users/caozhang/opt/anaconda3/lib/python3.8/site-packages/pyLDAvis/_prepare.py:246: FutureWarning: In a future version of pandas all arguments of DataFrame.drop except for the argument 'labels' will be keyword-only.\n",
      "  default_term_info = default_term_info.sort_values(\n"
     ]
    },
    {
     "name": "stdout",
     "output_type": "stream",
     "text": [
      "6153\n",
      "2 6153\n"
     ]
    },
    {
     "name": "stderr",
     "output_type": "stream",
     "text": [
      "/Users/caozhang/opt/anaconda3/lib/python3.8/site-packages/pyLDAvis/_prepare.py:246: FutureWarning: In a future version of pandas all arguments of DataFrame.drop except for the argument 'labels' will be keyword-only.\n",
      "  default_term_info = default_term_info.sort_values(\n"
     ]
    },
    {
     "name": "stdout",
     "output_type": "stream",
     "text": [
      "143272\n",
      "3 143272\n"
     ]
    },
    {
     "name": "stderr",
     "output_type": "stream",
     "text": [
      "/Users/caozhang/opt/anaconda3/lib/python3.8/site-packages/pyLDAvis/_prepare.py:246: FutureWarning: In a future version of pandas all arguments of DataFrame.drop except for the argument 'labels' will be keyword-only.\n",
      "  default_term_info = default_term_info.sort_values(\n"
     ]
    },
    {
     "name": "stdout",
     "output_type": "stream",
     "text": [
      "diretory is Data/Early_Processed/37862_Thailand.csv\n",
      "line[0] = Applause for all the healthworkers that are working effortlessly to keep us safe and healthy. Thank you ❤️ #covid19 #bangkok #thailand #โควิท19 (@RichardBarrow) https://t.co/qzrvXyvVtT \n",
      "\n",
      "line[1] = Massive traffic jam at the northern end of Phuket as many people try to flee the island before the midnight lockdown #Thailand #COVID19 https://t.co/g4OAvSwIWM \n",
      "\n",
      "diretory is Data/Mid_Processed/748_Thailand_en.csv\n",
      "line[0] = COVID is Over! \n",
      "\n",
      "line[1] =   11 Ajax players test positive for coronavirus ahead of Champions League fixture: The Amsterdammers have confirmed just a… \n",
      "\n",
      "diretory is Data/Late_Processed/35568_Thailand.csv\n",
      "line[0] = The NHS spend 6 billion pounds a year on obesity… \n",
      "#NHS #COVID19 #WakeUp \n",
      "\n",
      "line[1] = Before this year ends, would like to thank the warriors who helped people in worst of their times during the second wave of #COVID19 . Let’s all be prepared to fight again 🙏👍  #CoronaWarriors  \n",
      "\n",
      "37860\n",
      "0 37860\n"
     ]
    },
    {
     "name": "stderr",
     "output_type": "stream",
     "text": [
      "/Users/caozhang/opt/anaconda3/lib/python3.8/site-packages/pyLDAvis/_prepare.py:246: FutureWarning: In a future version of pandas all arguments of DataFrame.drop except for the argument 'labels' will be keyword-only.\n",
      "  default_term_info = default_term_info.sort_values(\n"
     ]
    },
    {
     "name": "stdout",
     "output_type": "stream",
     "text": [
      "494\n",
      "1 494\n"
     ]
    },
    {
     "name": "stderr",
     "output_type": "stream",
     "text": [
      "/Users/caozhang/opt/anaconda3/lib/python3.8/site-packages/pyLDAvis/_prepare.py:246: FutureWarning: In a future version of pandas all arguments of DataFrame.drop except for the argument 'labels' will be keyword-only.\n",
      "  default_term_info = default_term_info.sort_values(\n"
     ]
    },
    {
     "name": "stdout",
     "output_type": "stream",
     "text": [
      "35568\n",
      "2 35568\n"
     ]
    },
    {
     "name": "stderr",
     "output_type": "stream",
     "text": [
      "/Users/caozhang/opt/anaconda3/lib/python3.8/site-packages/pyLDAvis/_prepare.py:246: FutureWarning: In a future version of pandas all arguments of DataFrame.drop except for the argument 'labels' will be keyword-only.\n",
      "  default_term_info = default_term_info.sort_values(\n"
     ]
    },
    {
     "name": "stdout",
     "output_type": "stream",
     "text": [
      "73922\n",
      "3 73922\n"
     ]
    },
    {
     "name": "stderr",
     "output_type": "stream",
     "text": [
      "/Users/caozhang/opt/anaconda3/lib/python3.8/site-packages/pyLDAvis/_prepare.py:246: FutureWarning: In a future version of pandas all arguments of DataFrame.drop except for the argument 'labels' will be keyword-only.\n",
      "  default_term_info = default_term_info.sort_values(\n"
     ]
    },
    {
     "name": "stdout",
     "output_type": "stream",
     "text": [
      "diretory is Data/Early_Processed/37919_India.csv\n",
      "line[0] = Jee lo thoda.\n",
      "#IndiaFightsCorona #IndiaFightsCOVID19 #IndiaVsCorona #GoCorona #GoCoronaGo #GoCoronaCoronaGo #IndiaBattlesCoronavirus #IndiaFightCorona #IndiaLockdown #IndiaLockdownFor21Days #indialove #MyCountryTheNewAge #CoronaUpdate #CoronavirusPandemic #Coronaindia https://t.co/QfAcxLEePH \n",
      "\n",
      "line[1] = Dear Chics and Dappers of every Community, Let your Lift rooms and Basement breath.\n",
      "\n",
      "#StayAtHomeAndStaySafe #Quarantine #Lockdown21 #SocialDistancing #Covid_19 #Coronavirus \n",
      "\n",
      "diretory is Data/Mid_Processed/16704_India_en.csv\n",
      "line[0] =  Please back our project -     #coronavirus \n",
      "\n",
      "line[1] =  Please back our project -     #coronavirus \n",
      "\n",
      "diretory is Data/Late_Processed/11418_India.csv\n",
      "line[0] = India approves 2 COVID vaccines, 1 COVID pill in a single day for emergency\n",
      "#COVID19 #CovidVaccine #OmicronVariant #Latest #news #pupulse  \n",
      "\n",
      "line[1] = Scientists Identify Antibodies that Can Neutralise Omicron Variant of COVID-19 \n",
      "#Scientists #Omicron #OmicronVariant #COVID19 #Coronavirus \n",
      " \n",
      "\n",
      "37915\n",
      "0 37915\n"
     ]
    },
    {
     "name": "stderr",
     "output_type": "stream",
     "text": [
      "/Users/caozhang/opt/anaconda3/lib/python3.8/site-packages/pyLDAvis/_prepare.py:246: FutureWarning: In a future version of pandas all arguments of DataFrame.drop except for the argument 'labels' will be keyword-only.\n",
      "  default_term_info = default_term_info.sort_values(\n"
     ]
    },
    {
     "name": "stdout",
     "output_type": "stream",
     "text": [
      "13812\n",
      "1 13812\n"
     ]
    },
    {
     "name": "stderr",
     "output_type": "stream",
     "text": [
      "/Users/caozhang/opt/anaconda3/lib/python3.8/site-packages/pyLDAvis/_prepare.py:246: FutureWarning: In a future version of pandas all arguments of DataFrame.drop except for the argument 'labels' will be keyword-only.\n",
      "  default_term_info = default_term_info.sort_values(\n"
     ]
    },
    {
     "name": "stdout",
     "output_type": "stream",
     "text": [
      "11418\n",
      "2 11418\n"
     ]
    },
    {
     "name": "stderr",
     "output_type": "stream",
     "text": [
      "/Users/caozhang/opt/anaconda3/lib/python3.8/site-packages/pyLDAvis/_prepare.py:246: FutureWarning: In a future version of pandas all arguments of DataFrame.drop except for the argument 'labels' will be keyword-only.\n",
      "  default_term_info = default_term_info.sort_values(\n"
     ]
    },
    {
     "name": "stdout",
     "output_type": "stream",
     "text": [
      "63145\n",
      "3 63145\n"
     ]
    },
    {
     "name": "stderr",
     "output_type": "stream",
     "text": [
      "/Users/caozhang/opt/anaconda3/lib/python3.8/site-packages/pyLDAvis/_prepare.py:246: FutureWarning: In a future version of pandas all arguments of DataFrame.drop except for the argument 'labels' will be keyword-only.\n",
      "  default_term_info = default_term_info.sort_values(\n"
     ]
    },
    {
     "name": "stdout",
     "output_type": "stream",
     "text": [
      "diretory is Data/Early_Processed/16135_Canada.csv\n",
      "line[0] = Some good news ! #Italy #COVID19 https://t.co/8Da68CLl4x \n",
      "\n",
      "line[1] = Kerry's #Covid_19 survival #drink of the day:\n",
      "\n",
      "The Whiskey Sour.\n",
      "\n",
      "@JPWisersCA https://t.co/KRSPtJpd3Z \n",
      "\n",
      "diretory is Data/Mid_Processed/12334_Canada_en.csv\n",
      "line[0] =     IMHO, it is a crime for health authorities not to let the populace know of the efficacy of Vitamin D3 .… \n",
      "\n",
      "line[1] = Taking a stand.  Staff members at Glamorgan Junior Public School are refusing work after a COVID-19 outbreak was confirmed last week.   \n",
      "\n",
      "diretory is Data/Late_Processed/4837_Canada.csv\n",
      "line[0] = And infect their parents. 🤦‍♀️\n",
      "\n",
      "In #Sarnia Lambton, the left most column is cases/100k in &lt;20, right most is 80+.\n",
      "\n",
      "#COVID19 #COVID19Ontario #covid19ON   \n",
      "\n",
      "line[1] = This is a really good read to better understand how quickly Omicron spreads.\n",
      "How Long Does Omicron Take to Make You Sick? - The Atlantic #covid19 #omicron    \n",
      "\n",
      "16135\n",
      "0 16135\n"
     ]
    },
    {
     "name": "stderr",
     "output_type": "stream",
     "text": [
      "/Users/caozhang/opt/anaconda3/lib/python3.8/site-packages/pyLDAvis/_prepare.py:246: FutureWarning: In a future version of pandas all arguments of DataFrame.drop except for the argument 'labels' will be keyword-only.\n",
      "  default_term_info = default_term_info.sort_values(\n"
     ]
    },
    {
     "name": "stdout",
     "output_type": "stream",
     "text": [
      "10451\n",
      "1 10451\n"
     ]
    },
    {
     "name": "stderr",
     "output_type": "stream",
     "text": [
      "/Users/caozhang/opt/anaconda3/lib/python3.8/site-packages/pyLDAvis/_prepare.py:246: FutureWarning: In a future version of pandas all arguments of DataFrame.drop except for the argument 'labels' will be keyword-only.\n",
      "  default_term_info = default_term_info.sort_values(\n"
     ]
    },
    {
     "name": "stdout",
     "output_type": "stream",
     "text": [
      "4837\n",
      "2 4837\n"
     ]
    },
    {
     "name": "stderr",
     "output_type": "stream",
     "text": [
      "/Users/caozhang/opt/anaconda3/lib/python3.8/site-packages/pyLDAvis/_prepare.py:246: FutureWarning: In a future version of pandas all arguments of DataFrame.drop except for the argument 'labels' will be keyword-only.\n",
      "  default_term_info = default_term_info.sort_values(\n"
     ]
    },
    {
     "name": "stdout",
     "output_type": "stream",
     "text": [
      "31423\n",
      "3 31423\n"
     ]
    },
    {
     "name": "stderr",
     "output_type": "stream",
     "text": [
      "/Users/caozhang/opt/anaconda3/lib/python3.8/site-packages/pyLDAvis/_prepare.py:246: FutureWarning: In a future version of pandas all arguments of DataFrame.drop except for the argument 'labels' will be keyword-only.\n",
      "  default_term_info = default_term_info.sort_values(\n"
     ]
    },
    {
     "name": "stdout",
     "output_type": "stream",
     "text": [
      "diretory is Data/Early_Processed/5370_Serbia.csv\n",
      "line[0] = Fuck you #covid_19 \n",
      "\n",
      "line[1] = Counting #COVID19 deceased in #Italy \n",
      "\n",
      "#COVID2019italia \n",
      "#CoronavirusOutbreak https://t.co/b1PQOlsZNU \n",
      "\n",
      "diretory is Data/Mid_Processed/15171_Serbia_en.csv\n",
      "line[0] =   . decision to ban the sale of firecrackers is adding misery to the lives of millions of workers in the Firew… \n",
      "\n",
      "line[1] =   The poisonous smoke emanating from fireworks is a health hazard for #COVID19 patients as well as those suffering from he… \n",
      "\n",
      "diretory is Data/Late_Processed/6349_Serbia.csv\n",
      "line[0] = Maharashtra government issued fresh guidelines and imposed Section 144 in the state from 9 pm to 6 am\n",
      "\n",
      "#COVID19 #Omicron #Maharashtra #section144 \n",
      "\n",
      " \n",
      "\n",
      "line[1] = . has said that a certificate is not required for the administration of precaution doses to those about 60 with comorbidities\n",
      "\n",
      "#COVID19 #Omicron #OmicronVariant \n",
      "\n",
      " \n",
      "\n",
      "5370\n",
      "0 5370\n"
     ]
    },
    {
     "name": "stderr",
     "output_type": "stream",
     "text": [
      "/Users/caozhang/opt/anaconda3/lib/python3.8/site-packages/pyLDAvis/_prepare.py:246: FutureWarning: In a future version of pandas all arguments of DataFrame.drop except for the argument 'labels' will be keyword-only.\n",
      "  default_term_info = default_term_info.sort_values(\n"
     ]
    },
    {
     "name": "stdout",
     "output_type": "stream",
     "text": [
      "11278\n",
      "1 11278\n"
     ]
    },
    {
     "name": "stderr",
     "output_type": "stream",
     "text": [
      "/Users/caozhang/opt/anaconda3/lib/python3.8/site-packages/pyLDAvis/_prepare.py:246: FutureWarning: In a future version of pandas all arguments of DataFrame.drop except for the argument 'labels' will be keyword-only.\n",
      "  default_term_info = default_term_info.sort_values(\n"
     ]
    },
    {
     "name": "stdout",
     "output_type": "stream",
     "text": [
      "6349\n",
      "2 6349\n"
     ]
    },
    {
     "name": "stderr",
     "output_type": "stream",
     "text": [
      "/Users/caozhang/opt/anaconda3/lib/python3.8/site-packages/pyLDAvis/_prepare.py:246: FutureWarning: In a future version of pandas all arguments of DataFrame.drop except for the argument 'labels' will be keyword-only.\n",
      "  default_term_info = default_term_info.sort_values(\n"
     ]
    },
    {
     "name": "stdout",
     "output_type": "stream",
     "text": [
      "22997\n",
      "3 22997\n"
     ]
    },
    {
     "name": "stderr",
     "output_type": "stream",
     "text": [
      "/Users/caozhang/opt/anaconda3/lib/python3.8/site-packages/pyLDAvis/_prepare.py:246: FutureWarning: In a future version of pandas all arguments of DataFrame.drop except for the argument 'labels' will be keyword-only.\n",
      "  default_term_info = default_term_info.sort_values(\n"
     ]
    },
    {
     "name": "stdout",
     "output_type": "stream",
     "text": [
      "diretory is Data/Early_Processed/7478_Australia.csv\n",
      "line[0] = Self-Isolation Day 10: Coming around the last turn &amp; into the final stretch. The house is cleaner than it’s ever been this year, because Shondelle is here kicking my ass! In the meantime, we are enjoying a yummy pork ragu with linguini. \n",
      "#selfisolation #covid_19 #nomnomnom https://t.co/6b5MtED836 \n",
      "\n",
      "line[1] = #inthistogether @NMHC national mental health and wellbeing for #COVID19 tips for everyone to follow each day while physical distancing. https://t.co/46FW5ukJlD https://t.co/MS8X6X5p5f \n",
      "\n",
      "diretory is Data/Mid_Processed/3043_Australia_en.csv\n",
      "line[0] =   1 of 6 Good morning  I'm very happy to share with you that my baby girl is breathing on her own for 3 days now. She's got… \n",
      "\n",
      "line[1] =   Uncomfortable truth: there is a reasonable chance that Victoria will locally eliminate #COVID19, leaving NSW as the only… \n",
      "\n",
      "diretory is Data/Late_Processed/3481_Australia.csv\n",
      "line[0] = If you’re going to follow anyone, make it someone you respect, not fear.\n",
      "\n",
      "#COVID19 #protests #antivaxxers \n",
      "\n",
      "line[1] = What's with all the traffic at Goodna? Are they lined up all the way around the block for #COVID19 testing? 100's of cars!😱\n",
      "When i stopped there at the lights some dude was doing a 3 point turn in the middle of the intersection🤣 to avoid the gridlock...\n",
      "#Brisbane \n",
      "\n",
      "7478\n",
      "0 7478\n"
     ]
    },
    {
     "name": "stderr",
     "output_type": "stream",
     "text": [
      "/Users/caozhang/opt/anaconda3/lib/python3.8/site-packages/pyLDAvis/_prepare.py:246: FutureWarning: In a future version of pandas all arguments of DataFrame.drop except for the argument 'labels' will be keyword-only.\n",
      "  default_term_info = default_term_info.sort_values(\n"
     ]
    },
    {
     "name": "stdout",
     "output_type": "stream",
     "text": [
      "1793\n",
      "1 1793\n"
     ]
    },
    {
     "name": "stderr",
     "output_type": "stream",
     "text": [
      "/Users/caozhang/opt/anaconda3/lib/python3.8/site-packages/pyLDAvis/_prepare.py:246: FutureWarning: In a future version of pandas all arguments of DataFrame.drop except for the argument 'labels' will be keyword-only.\n",
      "  default_term_info = default_term_info.sort_values(\n"
     ]
    },
    {
     "name": "stdout",
     "output_type": "stream",
     "text": [
      "3481\n",
      "2 3481\n"
     ]
    },
    {
     "name": "stderr",
     "output_type": "stream",
     "text": [
      "/Users/caozhang/opt/anaconda3/lib/python3.8/site-packages/pyLDAvis/_prepare.py:246: FutureWarning: In a future version of pandas all arguments of DataFrame.drop except for the argument 'labels' will be keyword-only.\n",
      "  default_term_info = default_term_info.sort_values(\n"
     ]
    },
    {
     "name": "stdout",
     "output_type": "stream",
     "text": [
      "12752\n",
      "3 12752\n"
     ]
    },
    {
     "name": "stderr",
     "output_type": "stream",
     "text": [
      "/Users/caozhang/opt/anaconda3/lib/python3.8/site-packages/pyLDAvis/_prepare.py:246: FutureWarning: In a future version of pandas all arguments of DataFrame.drop except for the argument 'labels' will be keyword-only.\n",
      "  default_term_info = default_term_info.sort_values(\n"
     ]
    },
    {
     "name": "stdout",
     "output_type": "stream",
     "text": [
      "diretory is Data/Early_Processed/9953_Nigeria.csv\n",
      "line[0] = @NCDCgov @Fmohnigeria SPAIN, NETHERLANDS AND TURKEY have issued statements about defective medical orders received from China. Please do your DD and exercise caution as you order the needed supplies from China. We all understand you’re working on an impossible timeline #COVID19 https://t.co/3F3xDZgOdL \n",
      "\n",
      "line[1] = *Call family and friends to check up. Do not visit! Just call. That is the best emotional support we can give to each other at this time. If you love me, stay away from me; for now!* #StayAtHomeAndStaySafe #coronavirus #COVID19NIGERIA \n",
      "\n",
      "diretory is Data/Mid_Processed/2204_Nigeria_en.csv\n",
      "line[0] =   Where is your outrage at COVID-19 palliatives that were hidden by those who are supposed to be leaders? Is that not haram… \n",
      "\n",
      "line[1] =   The second wave of COVID-19 is here  7 new patients admitted for COVID-19 last week, 5 landed in the ICU and are curre… \n",
      "\n",
      "diretory is Data/Late_Processed/123_Nigeria.csv\n",
      "line[0] =  will miss global 40% #vaccination target  via \n",
      "#COVID19 #Omicron #coronavirus \n",
      "\n",
      "line[1] = “Gélí” is a Chinese word which means\"ISOLATION\". This is a portrait of myself and how I faired during the lockdown.\n",
      "\n",
      "Title: GÈLÍ \n",
      "Medium: oil on Canvas \n",
      "Size: 48 by 60 inches\n",
      "#CovidTesting #coronavirus #COVID19 #NFT \n",
      "     \n",
      "\n",
      "9952\n",
      "0 9952\n"
     ]
    },
    {
     "name": "stderr",
     "output_type": "stream",
     "text": [
      "/Users/caozhang/opt/anaconda3/lib/python3.8/site-packages/pyLDAvis/_prepare.py:246: FutureWarning: In a future version of pandas all arguments of DataFrame.drop except for the argument 'labels' will be keyword-only.\n",
      "  default_term_info = default_term_info.sort_values(\n"
     ]
    },
    {
     "name": "stdout",
     "output_type": "stream",
     "text": [
      "1949\n",
      "1 1949\n"
     ]
    },
    {
     "name": "stderr",
     "output_type": "stream",
     "text": [
      "/Users/caozhang/opt/anaconda3/lib/python3.8/site-packages/pyLDAvis/_prepare.py:246: FutureWarning: In a future version of pandas all arguments of DataFrame.drop except for the argument 'labels' will be keyword-only.\n",
      "  default_term_info = default_term_info.sort_values(\n"
     ]
    },
    {
     "name": "stdout",
     "output_type": "stream",
     "text": [
      "123\n",
      "2 123\n"
     ]
    },
    {
     "name": "stderr",
     "output_type": "stream",
     "text": [
      "/Users/caozhang/opt/anaconda3/lib/python3.8/site-packages/pyLDAvis/_prepare.py:246: FutureWarning: In a future version of pandas all arguments of DataFrame.drop except for the argument 'labels' will be keyword-only.\n",
      "  default_term_info = default_term_info.sort_values(\n"
     ]
    },
    {
     "name": "stdout",
     "output_type": "stream",
     "text": [
      "12024\n",
      "3 12024\n"
     ]
    },
    {
     "name": "stderr",
     "output_type": "stream",
     "text": [
      "/Users/caozhang/opt/anaconda3/lib/python3.8/site-packages/pyLDAvis/_prepare.py:246: FutureWarning: In a future version of pandas all arguments of DataFrame.drop except for the argument 'labels' will be keyword-only.\n",
      "  default_term_info = default_term_info.sort_values(\n"
     ]
    },
    {
     "name": "stdout",
     "output_type": "stream",
     "text": [
      "diretory is Data/Early_Processed/6309_South Africa.csv\n",
      "line[0] = We went Mexican for lunch. Corona and Tacos... And Monopoly to kill.some.hours. well.done lee.becker.9480 for winning. And the tacos were a triumph jomarivermeulen . #lockdown2020 #covid19 @ Kakamas, Northern Cape https://t.co/a9cmt33PIZ \n",
      "\n",
      "line[1] = Statement of the Gauteng Provincial Command Council on the adherence to the 21-Day lockdown regulations and further measures to be taken to flatten the curve #Covid_19 #CoronaVirusSA #GautengCOVID19 #StayHomeSA https://t.co/r3acKAaCq6 \n",
      "\n",
      "diretory is Data/Mid_Processed/5087_South Africa_en.csv\n",
      "line[0] =   Here are my latest graphs showing the weekly #COVID19 data and trends in South Africa 🇿🇦  I've received a number of queries… \n",
      "\n",
      "line[1] =   The team  has donated its prize money to  A Stellenbosch initiative which was established to provide… \n",
      "\n",
      "diretory is Data/Late_Processed/630_South Africa.csv\n",
      "line[0] = It's pathetic that  does not want to refund my flight that I've needed to cancel due to a positive #covid19 test. They don't want me to fly, but they don't want to give back my money either?!?!?! #badservice #customercare #getwiththetimes \n",
      "\n",
      "line[1] = Covid-19 booster shot rollout approved in South Africa — when you can get it  via  #Covid19 #vaccination \n",
      "\n",
      "6309\n",
      "0 6309\n"
     ]
    },
    {
     "name": "stderr",
     "output_type": "stream",
     "text": [
      "/Users/caozhang/opt/anaconda3/lib/python3.8/site-packages/pyLDAvis/_prepare.py:246: FutureWarning: In a future version of pandas all arguments of DataFrame.drop except for the argument 'labels' will be keyword-only.\n",
      "  default_term_info = default_term_info.sort_values(\n"
     ]
    },
    {
     "name": "stdout",
     "output_type": "stream",
     "text": [
      "4748\n",
      "1 4748\n"
     ]
    },
    {
     "name": "stderr",
     "output_type": "stream",
     "text": [
      "/Users/caozhang/opt/anaconda3/lib/python3.8/site-packages/pyLDAvis/_prepare.py:246: FutureWarning: In a future version of pandas all arguments of DataFrame.drop except for the argument 'labels' will be keyword-only.\n",
      "  default_term_info = default_term_info.sort_values(\n"
     ]
    },
    {
     "name": "stdout",
     "output_type": "stream",
     "text": [
      "630\n",
      "2 630\n"
     ]
    },
    {
     "name": "stderr",
     "output_type": "stream",
     "text": [
      "/Users/caozhang/opt/anaconda3/lib/python3.8/site-packages/pyLDAvis/_prepare.py:246: FutureWarning: In a future version of pandas all arguments of DataFrame.drop except for the argument 'labels' will be keyword-only.\n",
      "  default_term_info = default_term_info.sort_values(\n"
     ]
    },
    {
     "name": "stdout",
     "output_type": "stream",
     "text": [
      "11687\n",
      "3 11687\n"
     ]
    },
    {
     "name": "stderr",
     "output_type": "stream",
     "text": [
      "/Users/caozhang/opt/anaconda3/lib/python3.8/site-packages/pyLDAvis/_prepare.py:246: FutureWarning: In a future version of pandas all arguments of DataFrame.drop except for the argument 'labels' will be keyword-only.\n",
      "  default_term_info = default_term_info.sort_values(\n"
     ]
    },
    {
     "name": "stdout",
     "output_type": "stream",
     "text": [
      "diretory is Data/Early_Processed/873_Colombia.csv\n",
      "line[0] = Cracks #QuedateEnCasa #coronavirus #JuntosSaldremosAdelante https://t.co/MhYFqNuPBh \n",
      "\n",
      "line[1] = Fuck it up! #coronavirus https://t.co/dx0FSONTdT \n",
      "\n",
      "diretory is Data/Mid_Processed/11716_Colombia_en.csv\n",
      "line[0] = Fuck Trump!!! \n",
      "\n",
      "line[1] = Trump is a pos! Vote him out! \n",
      "\n",
      "diretory is Data/Late_Processed/668_Colombia.csv\n",
      "line[0] =  Like limiting  and the state of Florida of monoclonal therapy? #Florida #COVID19 #BidenIsAFailure #DoNotComply \n",
      "\n",
      "line[1] = New COVID-19 testing site opens THURSDAY in Orange County at the South Orange Youth Sports Complex. Hours 9am-5pm, or until capacity is reached. Plan to arrive early!   #testing #COVID19  \n",
      "\n",
      "873\n",
      "0 873\n"
     ]
    },
    {
     "name": "stderr",
     "output_type": "stream",
     "text": [
      "/Users/caozhang/opt/anaconda3/lib/python3.8/site-packages/pyLDAvis/_prepare.py:246: FutureWarning: In a future version of pandas all arguments of DataFrame.drop except for the argument 'labels' will be keyword-only.\n",
      "  default_term_info = default_term_info.sort_values(\n"
     ]
    },
    {
     "name": "stdout",
     "output_type": "stream",
     "text": [
      "6598\n",
      "1 6598\n"
     ]
    },
    {
     "name": "stderr",
     "output_type": "stream",
     "text": [
      "/Users/caozhang/opt/anaconda3/lib/python3.8/site-packages/pyLDAvis/_prepare.py:246: FutureWarning: In a future version of pandas all arguments of DataFrame.drop except for the argument 'labels' will be keyword-only.\n",
      "  default_term_info = default_term_info.sort_values(\n"
     ]
    },
    {
     "name": "stdout",
     "output_type": "stream",
     "text": [
      "668\n",
      "2 668\n"
     ]
    },
    {
     "name": "stderr",
     "output_type": "stream",
     "text": [
      "/Users/caozhang/opt/anaconda3/lib/python3.8/site-packages/pyLDAvis/_prepare.py:246: FutureWarning: In a future version of pandas all arguments of DataFrame.drop except for the argument 'labels' will be keyword-only.\n",
      "  default_term_info = default_term_info.sort_values(\n"
     ]
    },
    {
     "name": "stdout",
     "output_type": "stream",
     "text": [
      "8139\n",
      "3 8139\n"
     ]
    },
    {
     "name": "stderr",
     "output_type": "stream",
     "text": [
      "/Users/caozhang/opt/anaconda3/lib/python3.8/site-packages/pyLDAvis/_prepare.py:246: FutureWarning: In a future version of pandas all arguments of DataFrame.drop except for the argument 'labels' will be keyword-only.\n",
      "  default_term_info = default_term_info.sort_values(\n",
      "/Users/caozhang/opt/anaconda3/lib/python3.8/site-packages/past/builtins/misc.py:45: DeprecationWarning: the imp module is deprecated in favour of importlib; see the module's documentation for alternative uses\n",
      "  from imp import reload\n",
      "/Users/caozhang/opt/anaconda3/lib/python3.8/site-packages/past/builtins/misc.py:45: DeprecationWarning: the imp module is deprecated in favour of importlib; see the module's documentation for alternative uses\n",
      "  from imp import reload\n",
      "/Users/caozhang/opt/anaconda3/lib/python3.8/site-packages/past/builtins/misc.py:45: DeprecationWarning: the imp module is deprecated in favour of importlib; see the module's documentation for alternative uses\n",
      "  from imp import reload\n",
      "/Users/caozhang/opt/anaconda3/lib/python3.8/site-packages/past/builtins/misc.py:45: DeprecationWarning: the imp module is deprecated in favour of importlib; see the module's documentation for alternative uses\n",
      "  from imp import reload\n",
      "/Users/caozhang/opt/anaconda3/lib/python3.8/site-packages/past/builtins/misc.py:45: DeprecationWarning: the imp module is deprecated in favour of importlib; see the module's documentation for alternative uses\n",
      "  from imp import reload\n",
      "/Users/caozhang/opt/anaconda3/lib/python3.8/site-packages/past/builtins/misc.py:45: DeprecationWarning: the imp module is deprecated in favour of importlib; see the module's documentation for alternative uses\n",
      "  from imp import reload\n",
      "/Users/caozhang/opt/anaconda3/lib/python3.8/site-packages/past/builtins/misc.py:45: DeprecationWarning: the imp module is deprecated in favour of importlib; see the module's documentation for alternative uses\n",
      "  from imp import reload\n",
      "/Users/caozhang/opt/anaconda3/lib/python3.8/site-packages/past/builtins/misc.py:45: DeprecationWarning: the imp module is deprecated in favour of importlib; see the module's documentation for alternative uses\n",
      "  from imp import reload\n"
     ]
    }
   ],
   "source": [
    "countries = ['United States', 'United Kingdom', 'Thailand', 'India', 'Canada', 'Serbia', 'Australia', 'Nigeria', 'South Africa', 'Colombia']\n",
    "for country in countries:\n",
    "    results = find_tweets(country)\n",
    "    for i, each in enumerate(results):\n",
    "        LDAmodel(each, i, country)"
   ]
  },
  {
   "cell_type": "code",
   "execution_count": null,
   "id": "022fc38d",
   "metadata": {},
   "outputs": [],
   "source": []
  },
  {
   "cell_type": "code",
   "execution_count": null,
   "id": "8e809d91",
   "metadata": {},
   "outputs": [],
   "source": []
  },
  {
   "cell_type": "code",
   "execution_count": null,
   "id": "dcbd6176",
   "metadata": {},
   "outputs": [],
   "source": []
  },
  {
   "cell_type": "code",
   "execution_count": null,
   "id": "9fc91229",
   "metadata": {},
   "outputs": [],
   "source": []
  },
  {
   "cell_type": "code",
   "execution_count": null,
   "id": "c8487cb8",
   "metadata": {},
   "outputs": [],
   "source": []
  }
 ],
 "metadata": {
  "kernelspec": {
   "display_name": "Python 3 (ipykernel)",
   "language": "python",
   "name": "python3"
  },
  "language_info": {
   "codemirror_mode": {
    "name": "ipython",
    "version": 3
   },
   "file_extension": ".py",
   "mimetype": "text/x-python",
   "name": "python",
   "nbconvert_exporter": "python",
   "pygments_lexer": "ipython3",
   "version": "3.8.12"
  }
 },
 "nbformat": 4,
 "nbformat_minor": 5
}
