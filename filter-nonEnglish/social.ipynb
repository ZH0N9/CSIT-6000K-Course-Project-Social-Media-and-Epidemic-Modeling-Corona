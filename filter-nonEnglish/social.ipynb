{
 "cells": [
  {
   "cell_type": "code",
   "execution_count": 1,
   "metadata": {},
   "outputs": [
    {
     "name": "stdout",
     "output_type": "stream",
     "text": [
      "Requirement already satisfied: langid in /Library/Frameworks/Python.framework/Versions/3.10/lib/python3.10/site-packages (1.1.6)\n",
      "Requirement already satisfied: numpy in /Library/Frameworks/Python.framework/Versions/3.10/lib/python3.10/site-packages (from langid) (1.22.3)\n",
      "Note: you may need to restart the kernel to use updated packages.\n"
     ]
    }
   ],
   "source": [
    "\n",
    "pip install langid\n"
   ]
  },
  {
   "cell_type": "code",
   "execution_count": 2,
   "metadata": {},
   "outputs": [],
   "source": [
    "import pandas as pd\n",
    "import re\n",
    "\n",
    "\n",
    "from pyfranc import franc\n",
    "\n",
    "from langdetect import detect\n",
    "import langid\n",
    "from os import listdir\n",
    "from os.path import isfile, join\n",
    "\n",
    "#pip install pyfranc\n",
    "#pip install langdetect\n",
    "\n",
    "# remove emoji\n",
    "def emoji_remove(text):\n",
    "    emoji_pattern = re.compile(\"[\"\n",
    "        u\"\\U0001F600-\\U0001F64F\"  # emoticons\n",
    "        u\"\\U0001F300-\\U0001F5FF\"  # symbols & pictographs\n",
    "        u\"\\U0001F680-\\U0001F6FF\"  # transport & map symbols\n",
    "        u\"\\U0001F1E0-\\U0001F1FF\"  # flags (iOS)\n",
    "                           \"]+\", flags=re.UNICODE)\n",
    "    return(emoji_pattern.sub(r'', text)) # no emoji\n",
    "# Prefix Removal\n",
    "def prefix_removal(content):\n",
    " \n",
    "    return re.sub(r'@\\S+', '', content)\n",
    "# Emoji Removal\n",
    "\n",
    "# URL Removal\n",
    "def url_removal(content):\n",
    "    return re.sub(r'http\\S+', '', content)\n",
    "\n",
    "def RT_removal(content):\n",
    "    return content.replace('RT','',1)\n",
    "#remove empty line from dataset\n",
    "def clean_text_full(tweet):\n",
    "    remove_prefex = prefix_removal(tweet)\n",
    "    remove_RT = RT_removal(remove_prefex)\n",
    "    remove_url = url_removal(remove_RT)\n",
    "    # remove_emoji = clean(remove_url, no_emoji=True)\n",
    "    remove_emoji = emoji_remove(remove_url)\n",
    "    return remove_emoji\n",
    "\n",
    "def clean_text_partial (tweet):\n",
    "    remove_prefex = prefix_removal(tweet)\n",
    "    remove_RT = RT_removal(remove_prefex)\n",
    "    remove_url = url_removal(remove_RT)\n",
    "    return remove_url\n",
    "\n",
    "\n",
    "def get_clean_table(df,newfilename):\n",
    "    for index,row in df.iterrows():\n",
    "        tweet = row['text']\n",
    "        if str(tweet) == 'nan':\n",
    "            df.drop(index, inplace=True)\n",
    "            continue\n",
    "    \n",
    "        clean_text_withEmoji = clean_text_partial(tweet)\n",
    "        isNotEmpty = len(clean_text_withEmoji.strip()) > 0\n",
    "        if isNotEmpty:\n",
    "            pure_text = emoji_remove(clean_text_withEmoji)\n",
    "            isEnglish = langid.classify(pure_text)[0] == 'en'\n",
    "            if isEnglish and isNotEmpty:\n",
    "                df.at[index,'text'] = clean_text_withEmoji\n",
    "                continue\n",
    "            df.drop(index, inplace=True)\n",
    "            \n",
    "            continue\n",
    "        df.drop(index, inplace=True)\n",
    "    \n",
    "    df.to_csv(\"result/\" + newfilename)\n",
    "# use this for auto read files in a folder\n",
    "def readAllCSVFilenames(folderName):\n",
    "    fileNames = [f for f in listdir(folderName) if isfile(join(folderName, f))]\n",
    "    return fileNames\n"
   ]
  },
  {
   "cell_type": "code",
   "execution_count": 3,
   "metadata": {},
   "outputs": [
    {
     "name": "stdout",
     "output_type": "stream",
     "text": [
      "['.DS_Store', 'LATE_2021_12_country.csv']\n"
     ]
    }
   ],
   "source": [
    "\n",
    "fileNames = readAllCSVFilenames(\"MID_PART\") # folder name need to be changed \n",
    "print(fileNames)\n",
    " \n"
   ]
  },
  {
   "cell_type": "code",
   "execution_count": 4,
   "metadata": {},
   "outputs": [
    {
     "name": "stdout",
     "output_type": "stream",
     "text": [
      "LATE_2021_12_country_en.csv\n"
     ]
    }
   ],
   "source": [
    "# folder result stores all new generated / processed file\n",
    "cleanedFiles = readAllCSVFilenames(\"result\")\n",
    "for filename in fileNames:\n",
    "    if filename == \".DS_Store\":\n",
    "        continue\n",
    "    # self-define the new generated file name\n",
    "    newFilename = filename.split(\".\")[0] + \"_en.csv\"\n",
    "    print(newFilename)\n",
    "    # file path need to  be changed\n",
    "    df = pd.read_csv(\"MID_PART/\" + filename, lineterminator='\\n')\n",
    "    if newFilename not in cleanedFiles:\n",
    "        get_clean_table(df,newFilename)\n",
    "\n"
   ]
  }
 ],
 "metadata": {
  "interpreter": {
   "hash": "aee8b7b246df8f9039afb4144a1f6fd8d2ca17a180786b69acc140d282b71a49"
  },
  "kernelspec": {
   "display_name": "Python 3.10.4 64-bit",
   "language": "python",
   "name": "python3"
  },
  "language_info": {
   "codemirror_mode": {
    "name": "ipython",
    "version": 3
   },
   "file_extension": ".py",
   "mimetype": "text/x-python",
   "name": "python",
   "nbconvert_exporter": "python",
   "pygments_lexer": "ipython3",
   "version": "3.10.4"
  },
  "orig_nbformat": 4
 },
 "nbformat": 4,
 "nbformat_minor": 2
}
