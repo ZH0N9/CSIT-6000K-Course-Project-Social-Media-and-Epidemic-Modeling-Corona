{
 "cells": [
  {
   "cell_type": "markdown",
   "metadata": {},
   "source": [
    "# Write to json"
   ]
  },
  {
   "cell_type": "code",
   "execution_count": null,
   "metadata": {},
   "outputs": [],
   "source": [
    "\n",
    "import os\n",
    "from collections import Counter\n",
    "import pandas as pd\n",
    "import numpy as np\n",
    "import json\n",
    "\n",
    "'''\n",
    "path = \"\" #文件夹目录\n",
    "files= os.listdir(path) #得到文件夹下的所有文件名称\n",
    "Sum = {}\n",
    "for file in files: #遍历文件夹\n",
    "     if not os.path.isdir(file): #判断是否是文件夹，不是文件夹才打开\n",
    "        try:\n",
    "             filename = path+'/'+file\n",
    "             db = pd.read_csv(filename,index_col=False, error_bad_lines=False, engine='python')\n",
    "             if len(db):\n",
    "                country_code = db['country_code'][0]\n",
    "                tweet_num = len(db)\n",
    "                print(country_code,tweet_num)\n",
    "                Sum[country_code]=tweet_num\n",
    "        except:\n",
    "            print(file)\n",
    "\n",
    "'''\n",
    "\n",
    "\n"
   ]
  },
  {
   "cell_type": "code",
   "execution_count": null,
   "metadata": {},
   "outputs": [],
   "source": [
    "with open('data/Early_Processed/early_country_num.json','r') as f:\n",
    "    data_early = json.load(f)\n",
    "with open('data/Middle_Processed/middle_country_num.json','r') as f:\n",
    "    data_middle = json.load(f)\n",
    "with open('data/Late_Processed/late_country_num.json','r') as f:\n",
    "    data_late = json.load(f)\n",
    "print(data_early)\n",
    "print(data_middle)\n",
    "print(data_late)\n"
   ]
  },
  {
   "cell_type": "code",
   "execution_count": null,
   "metadata": {},
   "outputs": [],
   "source": [
    "early,middle,late = Counter(data_early), Counter(data_middle), Counter(data_late)\n",
    "data_total =dict(early+middle+late)\n",
    "print('The total # of tweets in datase is:', np.sum(list(data_total.values())))\n",
    "print('The total # of countries in dataset is:', len(list(data_total.keys())))\n",
    "\n",
    "\n"
   ]
  },
  {
   "cell_type": "code",
   "execution_count": null,
   "metadata": {},
   "outputs": [],
   "source": [
    "with open('total_country_num.json','w') as f:\n",
    "    data_json = json.dumps(data_total)\n",
    "    f.write(data_json)"
   ]
  }
 ],
 "metadata": {
  "interpreter": {
   "hash": "aee8b7b246df8f9039afb4144a1f6fd8d2ca17a180786b69acc140d282b71a49"
  },
  "kernelspec": {
   "display_name": "Python 3.10.0 64-bit",
   "language": "python",
   "name": "python3"
  },
  "language_info": {
   "codemirror_mode": {
    "name": "ipython",
    "version": 3
   },
   "file_extension": ".py",
   "mimetype": "text/x-python",
   "name": "python",
   "nbconvert_exporter": "python",
   "pygments_lexer": "ipython3",
   "version": "3.10.0"
  },
  "orig_nbformat": 4
 },
 "nbformat": 4,
 "nbformat_minor": 2
}
