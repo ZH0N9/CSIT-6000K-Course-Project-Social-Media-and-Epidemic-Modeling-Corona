{
 "cells": [
  {
   "cell_type": "code",
   "execution_count": null,
   "metadata": {},
   "outputs": [],
   "source": [
    "import pandas as pd\n",
    "import re\n",
    "import geonamescache\n",
    "import pycountry\n",
    "import country_converter as coco\n",
    "from nltk.tokenize import RegexpTokenizer\n",
    "\n",
    "filename = \"\"\n",
    "db = pd.read_csv(filename, index_col=False, error_bad_lines=False, engine='python',encoding=\"utf-8\")\n",
    "gc = geonamescache.GeonamesCache()"
   ]
  },
  {
   "cell_type": "code",
   "execution_count": null,
   "metadata": {},
   "outputs": [],
   "source": [
    "\n",
    "def removepunctuation(word):\n",
    "    tokenizer = RegexpTokenizer(r'\\w+')\n",
    "    word = tokenizer.tokenize(str(word))\n",
    "    return re.sub(r'[^a-zA-Z\\s]','',str(word))\n",
    "\n",
    "def countryCode2CountryName(country_code):\n",
    "    if country_code == 'None':\n",
    "        return 'None'\n",
    "    country = pycountry.countries.get(alpha_2=country_code)\n",
    "    if country==None:\n",
    "        cc = coco.CountryConverter()\n",
    "        country_name = cc.convert(names = country_code, to = 'name_short')\n",
    "        if country_name:\n",
    "            return country_name\n",
    "        else:\n",
    "            return 'None'\n",
    "    return country.name\n",
    "\n",
    "def findCountry(location):\n",
    "    location = removepunctuation(location)\n",
    "    if location:\n",
    "        locationInfo = gc.search_cities(location,case_sensitive=True)\n",
    "        length = len(locationInfo)\n",
    "        if(length>0):\n",
    "            locationInfo = sorted(locationInfo, key=lambda e: e.__getitem__('population'))\n",
    "            country = locationInfo[length-1]['countrycode']\n",
    "            return country\n",
    "    return 'None'\n",
    "    \n",
    "def dealWithLocation(info):\n",
    "    info = str(info)\n",
    "    words = info.split(',')\n",
    "    for word in words:\n",
    "        location = findCountry(word)\n",
    "        if location!='None':\n",
    "            return location\n",
    "    return location\n",
    "\n",
    "def deleteNoneType(db,rowName):\n",
    "    df = db[(db[rowName]!='None')]\n",
    "    return df\n",
    "\n"
   ]
  },
  {
   "cell_type": "code",
   "execution_count": null,
   "metadata": {},
   "outputs": [],
   "source": [
    "# map user_location to the related country\n",
    "locationList2 = list(db['user_location'])\n",
    "db['country_code'] = list(map(lambda x: dealWithLocation(x), locationList2))\n",
    "df_filterLocation = deleteNoneType(db,'country_code')\n",
    "\n",
    "df_filterLocation['country_name'] = list(map(lambda x:countryCode2CountryName(x),df_filterLocation['country_code']))\n",
    "df_filterLocation = deleteNoneType(df_filterLocation,'country_name')\n"
   ]
  },
  {
   "cell_type": "code",
   "execution_count": null,
   "metadata": {},
   "outputs": [],
   "source": [
    "# write to new csv\n",
    "def writeCsv(filename,data):\n",
    "    dataframe = pd.DataFrame(data)\n",
    "    dataframe.to_csv(filename,index=False,sep=',')\n",
    "\n",
    "df_filterLocation.drop_duplicates(subset='text',inplace=True)\n",
    "filename = ''\n",
    "writeCsv(filename,df_filterLocation)\n",
    "\n"
   ]
  }
 ],
 "metadata": {
  "interpreter": {
   "hash": "31f2aee4e71d21fbe5cf8b01ff0e069b9275f58929596ceb00d14d90e3e16cd6"
  },
  "kernelspec": {
   "display_name": "Python 3.8.9 64-bit",
   "language": "python",
   "name": "python3"
  },
  "language_info": {
   "codemirror_mode": {
    "name": "ipython",
    "version": 3
   },
   "file_extension": ".py",
   "mimetype": "text/x-python",
   "name": "python",
   "nbconvert_exporter": "python",
   "pygments_lexer": "ipython3",
   "version": "3.10.0"
  },
  "orig_nbformat": 4
 },
 "nbformat": 4,
 "nbformat_minor": 2
}
